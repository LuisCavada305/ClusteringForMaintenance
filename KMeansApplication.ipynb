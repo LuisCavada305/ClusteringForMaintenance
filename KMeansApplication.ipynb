{
 "cells": [
  {
   "cell_type": "code",
   "execution_count": null,
   "metadata": {
    "id": "hiqwR01YjVij"
   },
   "outputs": [],
   "source": [
    "import numpy as np\n",
    "import matplotlib.pyplot as plt\n",
    "import pandas as pd\n",
    "%matplotlib inline"
   ]
  },
  {
   "cell_type": "markdown",
   "metadata": {
    "id": "TRjwVdI3jVik"
   },
   "source": [
    "## 1) Introdução\n",
    "A motivação da criação deste programa é a de designação de agrupamentos onde serão alocados técnicos para manutenção em cidades ao redor de São Paulo. \n",
    "Para solucionar tal programa será usado o algoritmo K-Means para agrupar localizações de forma que a distância entre as cidades dentro de cada agrupamento seja mínima. A entrada deve ser a latitude e a longitude de  cada localização, de tal forma que o resultado do programa seja melhor quando as distâncias são pequenas e não há grandes obstaculos geográficos entre os locais. Ademais, as localizações têm pesos iguais entre si.\n",
    "\n",
    "### Detalhes das entradas e saidas\n",
    "As entradas serão da forma X[i] = (latitude, longitude) e a saída sera um vetor com a posição de cada centróide e a qual centróide cada elemento da entrada é designado.\n"
   ]
  },
  {
   "cell_type": "markdown",
   "metadata": {},
   "source": [
    "\n",
    "### 2) O algoritmo\n",
    "Usaremos as seguintes funções:\n",
    "* find_closest_centroid(X, centroids)\n",
    "    * X é o vetor das entradas, de dimensões m x n, em que m são os exemplos de treino e n são as features e centroids é o vetor com todos os centroides, com dimensões K x n, com K = número de clusters.\n",
    "    * Essa função analisa para cada caso m de teste qual é o centróide mais próximo e retorna um array idx com m elementos, em que idx[i] = indexador do cluster mais próximo.\n",
    "* compute_centroids(X, idx, K):\n",
    "    * Essa função recebe a saída da função anterior idx e computa qual é a nova posição de cada centróide. A posição será a média das posições de cada um dos elementos mais próximos ao centróide em questão. Sua saída é um vetor com as posições de cada centróide.\n",
    "* compute_cost(X, centroids, idx)\n",
    "    * Essa função calcula o custo de uma configuração de agrupamento. Ela será usada para encontrar a melhor combinação de posições iniciais de cada centróide.\n",
    "* run_kmeans(X, initial_centroids, max_iters, max_random_inits)\n",
    "    * Essa função roda o algoritmo K-Means recursivamente o número representado por max_iters. Então, repete esse processo para encontrar a melhor configuração. Suas saídas são a posição final dos centróides (vetor centroids) e o array idx com as atribuições finais de cada elemento a um centróide.\n",
    "* kMeans_init_centroids(X, K)\n",
    "    * Essa função gera as posições de cada centróide a um elemento aleatório da amostra.\n",
    "* find_best_Clustering(X, max_iters, max_attempts_to_find_best_K, max_random_inits)\n",
    "    * Essa função roda o K-Means para todos os valores de K possíveis estabelecidos pelo usuário e armazena todos os dados obtidos para que se possa comparar a performance para cada K."
   ]
  },
  {
   "cell_type": "code",
   "execution_count": null,
   "metadata": {
    "id": "24lwKoqkjVil"
   },
   "outputs": [],
   "source": [
    "def find_closest_centroids(X, centroids):\n",
    "    \"\"\"\n",
    "    Encontra o centroide mais próximo para cada exemplo no conjunto de dados.\n",
    "\n",
    "    Argumentos:\n",
    "        X (ndarray): (m, n) Input values\n",
    "        centroids (ndarray): (K, n) centróides\n",
    "\n",
    "    Retorna:\n",
    "        idx (array_like): (m,) número do centróide mais próximo para cada exemplo\n",
    "\n",
    "    \"\"\"\n",
    "    K = centroids.shape[0]\n",
    "    idx = np.zeros(X.shape[0], dtype=int)\n",
    "\n",
    "    for i in range(X.shape[0]):\n",
    "        diff = X[i] - centroids[0]\n",
    "        minDist = (np.linalg.norm(diff))**2\n",
    "        for j in range(1, K):\n",
    "            tempDist = (np.linalg.norm(X[i]-centroids[j]))**2\n",
    "            if  tempDist < minDist:\n",
    "                minDist = tempDist\n",
    "                idx[i] = j\n",
    "\n",
    "    return idx"
   ]
  },
  {
   "cell_type": "code",
   "execution_count": null,
   "metadata": {
    "id": "53yX1k2fjVil"
   },
   "outputs": [],
   "source": [
    "def compute_centroids(X, idx, K):\n",
    "    \"\"\"\n",
    "    Returns the new centroids by computing the means of the\n",
    "    data points assigned to each centroid.\n",
    "\n",
    "    Argumentos:\n",
    "        X (ndarray):   (m, n) Data points\n",
    "        idx (ndarray): (m,) Array containing index of closest centroid for each\n",
    "                       example in X. Concretely, idx[i] contains the index of\n",
    "                       the centroid closest to example i\n",
    "        K (int):       number of centroids\n",
    "\n",
    "    Retorna:\n",
    "        centroids (ndarray): (K, n) New centroids computed\n",
    "    \"\"\"\n",
    "    m, n = X.shape\n",
    "    centroids = np.zeros((K, n))\n",
    "\n",
    "    for i in range(K):\n",
    "        counter = 0\n",
    "        for j in range(m):\n",
    "            if idx[j] == i:\n",
    "                counter += 1\n",
    "                centroids[i] = centroids[i] + X[j]\n",
    "        centroids[i] = centroids[i]/counter\n",
    "\n",
    "    return centroids"
   ]
  },
  {
   "cell_type": "code",
   "execution_count": null,
   "metadata": {
    "id": "6EsC9JoQjVim"
   },
   "outputs": [],
   "source": [
    "def compute_cost(X, centroids, idx):\n",
    "    \"\"\"\n",
    "    Calcula o custo (distância quadrada) entre os exemplos e os centróides mais próximos.\n",
    "\n",
    "    Argumentos:\n",
    "        X (ndarray): (m, n) Input values\n",
    "        centroids (ndarray): (K, n) centroid values\n",
    "        idx (array_like): (m,) número do centróide mais próximo para cada exemplo\n",
    "\n",
    "    Retorna:\n",
    "        J (float): custo do agrupamento\n",
    "    \"\"\"\n",
    "    m = X.shape[0]\n",
    "    J = 0\n",
    "\n",
    "    for i in range(m):\n",
    "        J = J + (np.linalg.norm(X[i]-centroids[idx[i]]))**2\n",
    "\n",
    "    J = J/m\n",
    "\n",
    "    return J"
   ]
  },
  {
   "cell_type": "code",
   "execution_count": null,
   "metadata": {
    "id": "DAAzlz7mjVim"
   },
   "outputs": [],
   "source": [
    "def kMeans_init_centroids(X, K):\n",
    "    \"\"\"\n",
    "    Essa função inicializa os centróides como K elementos aleatoriamente selecionados sem repetição para o algoritmo K-Means.\n",
    "\n",
    "    Argumentos:\n",
    "        X (ndarray): Data points\n",
    "        K (int):     number of centroids/clusters\n",
    "\n",
    "    Retorna:\n",
    "        centroids (ndarray): Initialized centroids\n",
    "    \"\"\"\n",
    "\n",
    "    # Reordena os índices aleatoriamente\n",
    "    randidx = np.random.permutation(X.shape[0])\n",
    "\n",
    "    # Seleciona os primeiros K exemplos como centróides\n",
    "    centroids = X[randidx[:K]]\n",
    "\n",
    "    return centroids"
   ]
  },
  {
   "cell_type": "code",
   "execution_count": null,
   "metadata": {
    "id": "Edc0SsVCjVim"
   },
   "outputs": [],
   "source": [
    "def run_kMeans(X, K, max_iters, max_random_inits):\n",
    "\n",
    "    # Inicialização dos valores\n",
    "    m, n = X.shape\n",
    "    idx = np.zeros(m)\n",
    "    minCentroids = []\n",
    "    minIdx = []\n",
    "    minCost = np.inf\n",
    "\n",
    "    for j in range(max_random_inits):\n",
    "        centroids = kMeans_init_centroids(X, K)\n",
    "        for i in range(max_iters):\n",
    "           # print(\"K-Means iteration %d/%d\" % (i, max_iters-1)) # Essa linha é opcional\n",
    "            idx = find_closest_centroids(X, centroids)\n",
    "\n",
    "        centroids = compute_centroids(X, idx, K)\n",
    "        tempCost = compute_cost(X, centroids, idx)\n",
    "        if tempCost < minCost:\n",
    "            minCost = tempCost\n",
    "            minCentroids = centroids\n",
    "            minIdx = idx\n",
    "\n",
    "\n",
    "    return minCentroids, minIdx"
   ]
  },
  {
   "cell_type": "code",
   "execution_count": null,
   "metadata": {
    "id": "_gMX0WjdjVim"
   },
   "outputs": [],
   "source": [
    "def find_best_Clustering(X, max_iters, max_attempts_to_find_best_K, max_random_inits):\n",
    "    \"\"\"\n",
    "    Encontra o melhor valor de K para o conjunto de dados.\n",
    "\n",
    "    Argumentos:\n",
    "        X (ndarray): (m, n) Input values\n",
    "        max_iters (int): número máximo de iterações\n",
    "        plot_progress (bool): se True, mostra o progresso do algoritmo\n",
    "\n",
    "    Retorna:\n",
    "        best_K (int): melhor valor de K\n",
    "        best_centroids (ndarray): (K, n) centroid values\n",
    "        best_idx (array_like): (m,) número do centróide mais próximo para cada exemplo\n",
    "    \"\"\"\n",
    "    best_centroids = []\n",
    "    best_idx = []\n",
    "    tempCost = []\n",
    "    print(\"Treinamento iniciado\")\n",
    "    for K in range(1, max_attempts_to_find_best_K+1):\n",
    "       # print(\"Rodando K-Means para K = %d\" % K) # Essa linha é opcional\n",
    "        centroids, idx = run_kMeans(X, K, max_iters, max_random_inits)\n",
    "        cost = compute_cost(X, centroids, idx)\n",
    "        tempCost.append(cost)\n",
    "        best_centroids.append(centroids)\n",
    "        best_idx.append(idx)\n",
    "    print(\"Treinamento completo\")\n",
    "    return tempCost, best_centroids, best_idx"
   ]
  },
  {
   "cell_type": "code",
   "execution_count": null,
   "metadata": {
    "id": "bNanse6jjVim"
   },
   "outputs": [],
   "source": [
    "def plotDataPoints(X, idx, K):\n",
    "    \"\"\"\n",
    "    Plota os pontos de dados em X, coloridos de acordo com os índices idx.\n",
    "\n",
    "    Argumentos:\n",
    "        X (ndarray): (m, n) Input values\n",
    "        idx (array_like): (m,) número do centróide mais próximo para cada exemplo\n",
    "        K (int): número de centróides\n",
    "\n",
    "    Retorna:\n",
    "        None\n",
    "    \"\"\"\n",
    "    colors = ['r', 'g', 'b', 'y', 'k', 'c', 'm', \"pink\", \"grey\"]\n",
    "    assert K <= len(colors), 'K is too large'\n",
    "\n",
    "    for i in range(K):\n",
    "        plt.scatter(X[idx == i, 0], X[idx == i, 1], c=colors[i], s=15)\n",
    "\n",
    "    plt.show()"
   ]
  },
  {
   "cell_type": "code",
   "execution_count": null,
   "metadata": {
    "id": "wTuHQsuPjVim"
   },
   "outputs": [],
   "source": [
    "def plotCostByK(K, cost):\n",
    "    \"\"\"\n",
    "    Plota o custo em função do número de clusters.\n",
    "\n",
    "    Argumentos:\n",
    "        K (int): número de clusters\n",
    "        cost (array_like): custo para cada valor de K\n",
    "\n",
    "    Retorna:\n",
    "        None\n",
    "    \"\"\"\n",
    "    line, = plt.plot(range(1, K+1), cost, '-o')\n",
    "    plt.xlabel('Número de regiões')\n",
    "    plt.ylabel('Distância média do centróide')\n",
    "    plt.title('Custo vs número de regiões')\n",
    "    plt.show()"
   ]
  },
  {
   "cell_type": "markdown",
   "metadata": {},
   "source": [
    "### 2.1 Aplicação\n",
    "Com todo o algoritmo pronto, basta designar o vetor X das entradas, max_K, que representa o número máximo de clusters, max_iters, que representa o máximo de iterações que o K-Means deve fazer, e max_random_inits, que é o máximo de vezes que se tenta inicializar o K-Means de tal forma que se minimize o custo."
   ]
  },
  {
   "cell_type": "code",
   "execution_count": null,
   "metadata": {
    "colab": {
     "base_uri": "https://localhost:8080/"
    },
    "id": "8sdCtOINjVin",
    "outputId": "5278000a-d9d4-4de4-b7bb-e360515d71ea"
   },
   "outputs": [],
   "source": [
    "# Carregar o arquivo Excel\n",
    "df = pd.read_excel(\"latitudesElongitudes.xlsx\")\n",
    "vetor_de_vetores = np.array(df[['Latitude', 'Longitude']])\n",
    "X = vetor_de_vetores\n",
    "# Definir o número máximo de clusters e outras variáveis de controle\n",
    "max_K = 20\n",
    "max_iters = 20\n",
    "max_random_inits = 100\n",
    "# Rodar o algoritmo e obter todos os resultados para cada valor de K\n",
    "Cost_for_every_K, best_centroids, best_idx = find_best_Clustering(X, max_iters, max_K, max_random_inits)\n",
    "\n",
    "\n",
    "\n"
   ]
  },
  {
   "cell_type": "markdown",
   "metadata": {
    "id": "MS-dvg7koMhI"
   },
   "source": [
    "## 3) Interpretação dos resultados\n",
    "Agora que concluimos o treinamento do modelo, faz-se necessário escolher o melhor valor para K, isto é, o número de regiões que deseja-se ter de tal forma que se equilibre a distância média até o centróide com o gasto total com as subdivisões.\n",
    "Para tal, podemos procurar por \"cotovelos\", em que a função custo passa a apresentar decrescimento reduzido."
   ]
  },
  {
   "cell_type": "code",
   "execution_count": null,
   "metadata": {
    "colab": {
     "base_uri": "https://localhost:8080/",
     "height": 490
    },
    "id": "QpiHrVO9m1-V",
    "outputId": "fa3b50ae-687f-4006-c7a8-87ee71c42fbb"
   },
   "outputs": [],
   "source": [
    "\n",
    "plotCostByK(max_K, Cost_for_every_K)"
   ]
  },
  {
   "cell_type": "markdown",
   "metadata": {
    "id": "gupEVbrupDRM"
   },
   "source": [
    "## 4) Avaliação dos resultados\n",
    "Podemos agora verificar como ficou o agrupamento obtido pelo algoritmo para avaliar o modelo. Basta inserir o valor de K escolhido para obter um gráfico"
   ]
  },
  {
   "cell_type": "code",
   "execution_count": null,
   "metadata": {
    "colab": {
     "base_uri": "https://localhost:8080/",
     "height": 430
    },
    "id": "Z3afS66bqbiW",
    "outputId": "b145d62a-ed5b-4f83-c03a-54e618a9696e"
   },
   "outputs": [],
   "source": [
    "best_K = 4\n",
    "plotDataPoints(X, best_idx[best_K-1], best_K)"
   ]
  },
  {
   "cell_type": "markdown",
   "metadata": {},
   "source": [
    "## 5) Enviar os dados para o Excel\n",
    "Agora enviaremos os dados como uma tabela no excel para facilitar a exportação."
   ]
  },
  {
   "cell_type": "code",
   "execution_count": null,
   "metadata": {},
   "outputs": [],
   "source": [
    "print(best_centroids[best_K-1])\n",
    "df = pd.DataFrame({\n",
    "    'Melhores clusters': best_idx[best_K-1],\n",
    "    'Posições dos centróides': [best_centroids[best_K-1][i] for i in best_idx[best_K-1]]\n",
    "})\n",
    "print(df)\n",
    "df.to_excel(\"output.xlsx\", index=False)"
   ]
  },
  {
   "cell_type": "markdown",
   "metadata": {},
   "source": [
    "## 6) Considerações finais\n",
    "Agora que o programa está concluido, basta encontrar as cidades mais próximas de cada centróide e verificar a disponibilidade de técnicos de manutenção na área."
   ]
  }
 ],
 "metadata": {
  "colab": {
   "provenance": []
  },
  "kernelspec": {
   "display_name": "pytorch",
   "language": "python",
   "name": "python3"
  },
  "language_info": {
   "codemirror_mode": {
    "name": "ipython",
    "version": 3
   },
   "file_extension": ".py",
   "mimetype": "text/x-python",
   "name": "python",
   "nbconvert_exporter": "python",
   "pygments_lexer": "ipython3",
   "version": "3.11.9"
  }
 },
 "nbformat": 4,
 "nbformat_minor": 0
}
